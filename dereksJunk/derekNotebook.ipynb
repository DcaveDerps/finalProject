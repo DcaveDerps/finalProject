{
 "cells": [
  {
   "cell_type": "code",
   "execution_count": 62,
   "metadata": {},
   "outputs": [
    {
     "data": {
      "text/plain": [
       "<matplotlib.axes._subplots.AxesSubplot at 0x7f2b2d11ff28>"
      ]
     },
     "execution_count": 62,
     "metadata": {},
     "output_type": "execute_result"
    },
    {
     "data": {
      "image/png": "[encoded data removed]",
      "text/plain": [
       "<Figure size 432x288 with 1 Axes>"
      ]
     },
     "metadata": {
      "needs_background": "light"
     },
     "output_type": "display_data"
    }
   ],
   "source": [
    "# DOn't have to do code of conduct or licence\n",
    "\n",
    "# Expectations aren't as high\n",
    "# 60% of the project done, doesn't have to be final\n",
    "\n",
    "# Recorded Arrests from July ~7 2016 - October 31 2019\n",
    "\n",
    "import pandas as pd\n",
    "import numpy as np\n",
    "%matplotlib inline\n",
    "import matplotlib.pyplot as plt\n",
    "\n",
    "arrests = pd.read_csv(\"recordedArrests.csv\").fillna(\"Not Recorded\")#.value_counts()\n",
    "arrestsNames = arrests[\"INCIDENTNEIGHBORHOOD\"]\n",
    "arrestsTotals = arrests[\"INCIDENTNEIGHBORHOOD\"].value_counts()\n",
    "\n",
    "\n",
    "newFrame = { \"Total Recorded Arrests\" : arrests[\"INCIDENTNEIGHBORHOOD\"].value_counts()}\n",
    "\n",
    "newDataFrame = pd.DataFrame(newFrame).reset_index().rename(columns = {\"index\":\"Neighborhood\"})\n",
    "# Display the top 10 neighborhoods with the most recorded arrests as a bar graph\n",
    "newDataFrame.set_index(\"Neighborhood\").drop([\"Not Recorded\"]).nlargest(10, \"Total Recorded Arrests\").plot(kind = \"bar\")\n",
    "\n",
    "\n",
    "#, index_col = \"INCIDENTNEIGHBORHOOD\"\n",
    "#pd.melt(arrests)#, parse_dates = True, index_col = \"ARRESTTIME\")\n",
    "#arrests.head(10)\n",
    "#arrests.pivot(columns = \"INCIDENTNEIGHBORHOOD\")\n",
    "#arrestsCount = arrests[\"INCIDENTNEIGHBORHOOD\"].value_counts()\n",
    "#arrests.groupby(\"INCIDENTNEIGHBORHOOD\").count()\n",
    "#arrests.count().nlargest(10, \"INCIDENTNEIGHBORHOOD\").plot()\n",
    "# arrests.drop(columns = [\"PK\", \"CCR\"])\n",
    "# arrests.dropna()\n",
    "# arrests.plot.pie(figsize=(25, 25))\n",
    "#arrests.rename(columns = {'':'TOTAL'})\n",
    "#arrests[\"TOTAL\"] = \n",
    "#arrests.groupby(\"INCIDENTNEIGHBORHOOD\").count()\n",
    "#arrestsTotals.info()\n",
    "#arrestsTotals.head(10)\n",
    "\n",
    "#arrestCount = arrests.count()\n",
    "#arrestCount.head(10)\n",
    "#len(arrests)\n",
    "# initialize variables\n",
    "# index = 0\n",
    "# itemDictionary = {}\n",
    "\n",
    "#while index < len(arrests): # while there are more rows to check\n",
    "#    if arrests.iloc[index].INCIDENTNEIGHBORHOOD not in itemDictionary: # if the item_name isn't a key, create it and set it to quantity\n",
    "#        itemDictionary[arrests.iloc[index].INCIDENTNEIGHBORHOOD] = 1\n",
    "#    elif str(arrests.iloc[index].INCIDENTNEIGHBORHOOD) != \"nan\": # if the item_name is a key, add the quantity to the stored value\n",
    "#        itemDictionary[arrests.iloc[index].INCIDENTNEIGHBORHOOD] = itemDictionary[arrests.iloc[index].INCIDENTNEIGHBORHOOD] + 1\n",
    "#    index = index + 1\n",
    "\n",
    "# print results\n",
    "#for item in itemDictionary:\n",
    "    #if itemDictionary[item] <= 250 or str(item) == \"nan\":\n",
    "        #del itemDictionary[item]\n",
    "        # dictionary can't change size during iteration\n",
    "\n",
    "#print(itemDictionary)        \n",
    "#arrestCount = pd.Series(itemDictionary)\n",
    "#arrestCount\n",
    "#arrestCount.plot(kind = \"bar\")\n",
    "# still need to filter out values less than 250\n",
    "\n",
    "#def filterLessThan(row):\n",
    "#    if row <= 250: # if the quantity of the given row is less than 2\n",
    "        #print(\"1\")\n",
    "#        return False # remove it\n",
    "#    else:\n",
    "        #print(\"3\")\n",
    "#        return True # keep it\n",
    "\n",
    "#arrestCount.nlargest(10, )\n",
    "    \n",
    "#arrestsCountTruncated = arrestCount.apply(filterLessThan)\n",
    "#arrestsCountTruncated\n",
    "# look at what centers are in the data now\n",
    "# arrestsCount.head(20)#.groupby(\"INCEDENTHEIGHBORHOOD\").count()\n",
    "# arrestsCount[\"INCIDENTNEIGHBORHOOD\"].value_counts()\n",
    "# use the custom function to filter out rows\n",
    "#arrestCount = arrests.groupby(\"INCIDENTNEIGHBORHOOD\").filter(filterLessThan, threshhold = 250)\n",
    "#print(\"finished removing values\")\n",
    "#arrestCount.groupby(\"INCIDENTNEIGHBORHOOD\").count()\n",
    "# arrestCountTruncated.head(30)\n",
    "\n",
    "# arrestCountTruncated.plot(kind = \"bar\")\n",
    "\n",
    "# mask = arrests.groupby(\"INCIDENTNEIGHBORHOOD\").count() >= 250\n",
    "\n",
    "# maskedDF = arrests[mask];\n",
    "\n",
    "#maskedDF.count()\n",
    "\n",
    "#mask.head(10)\n",
    "#mask\n",
    "# arrests[\"INCIDENTNEIGHBORHOOD\"].value_counts().plot(kind = 'bar')\n",
    "#print(arrestsCount)\n",
    "# i = 0;\n",
    "#while i < len(arrestsCount):\n",
    " #   if arrestsCount[i] >= 250:\n",
    "  #      print(arrestsCount[i]);\n",
    "   # i = i + 1\n",
    "        \n",
    "#print(\"-=-=-=-=-=-=-=-\")\n",
    "# arrests[\"INCIDENTNEIGHBORHOOD\"].value_counts().plot()\n",
    "# Future me should figure out how to keep the Neighborhood attached to the recorded number of crimes.\n",
    "# Could create separate data frame with two columns and record them via a function, or figure out if\n",
    "# the plot function can exclude specific values\n",
    "\n",
    "# arrestsCount.plot()"
   ]
  },
  {
   "cell_type": "code",
   "execution_count": null,
   "metadata": {},
   "outputs": [],
   "source": []
  }
 ],
 "metadata": {
  "kernelspec": {
   "display_name": "Python 3.7",
   "language": "python",
   "name": "python3"
  },
  "language_info": {
   "codemirror_mode": {
    "name": "ipython",
    "version": 3
   },
   "file_extension": ".py",
   "mimetype": "text/x-python",
   "name": "python",
   "nbconvert_exporter": "python",
   "pygments_lexer": "ipython3",
   "version": "3.7.0"
  }
 },
 "nbformat": 4,
 "nbformat_minor": 4
}
