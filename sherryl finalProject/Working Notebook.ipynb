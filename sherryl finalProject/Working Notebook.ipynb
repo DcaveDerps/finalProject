{
 "cells": [
  {
   "cell_type": "code",
   "execution_count": 3,
   "metadata": {},
   "outputs": [],
   "source": [
    "import pandas as pd\n",
    "import numpy as np\n",
    "%matplotlib inline"
   ]
  },
  {
   "cell_type": "code",
   "execution_count": 4,
   "metadata": {},
   "outputs": [
    {
     "data": {
      "text/html": [
       "<div>\n",
       "<style scoped>\n",
       "    .dataframe tbody tr th:only-of-type {\n",
       "        vertical-align: middle;\n",
       "    }\n",
       "\n",
       "    .dataframe tbody tr th {\n",
       "        vertical-align: top;\n",
       "    }\n",
       "\n",
       "    .dataframe thead th {\n",
       "        text-align: right;\n",
       "    }\n",
       "</style>\n",
       "<table border=\"1\" class=\"dataframe\">\n",
       "  <thead>\n",
       "    <tr style=\"text-align: right;\">\n",
       "      <th></th>\n",
       "      <th>number_major_crimes_1973</th>\n",
       "      <th>neighborhood_crime_rate_1973</th>\n",
       "      <th>number_major_crimes_1974</th>\n",
       "      <th>neighborhood_crime_rate_1974</th>\n",
       "      <th>number_major_crimes_1975</th>\n",
       "      <th>neighborhood_crime_rate_1975</th>\n",
       "    </tr>\n",
       "    <tr>\n",
       "      <th>neighborhood</th>\n",
       "      <th></th>\n",
       "      <th></th>\n",
       "      <th></th>\n",
       "      <th></th>\n",
       "      <th></th>\n",
       "      <th></th>\n",
       "    </tr>\n",
       "  </thead>\n",
       "  <tbody>\n",
       "    <tr>\n",
       "      <th>Glen Hazel Heights</th>\n",
       "      <td>0</td>\n",
       "      <td>0.000</td>\n",
       "      <td>0</td>\n",
       "      <td>0.000</td>\n",
       "      <td>0</td>\n",
       "      <td>0.000</td>\n",
       "    </tr>\n",
       "    <tr>\n",
       "      <th>Ivory Avenue District</th>\n",
       "      <td>10</td>\n",
       "      <td>0.010</td>\n",
       "      <td>7</td>\n",
       "      <td>0.007</td>\n",
       "      <td>10</td>\n",
       "      <td>0.010</td>\n",
       "    </tr>\n",
       "    <tr>\n",
       "      <th>City View</th>\n",
       "      <td>24</td>\n",
       "      <td>0.032</td>\n",
       "      <td>20</td>\n",
       "      <td>0.027</td>\n",
       "      <td>15</td>\n",
       "      <td>0.020</td>\n",
       "    </tr>\n",
       "    <tr>\n",
       "      <th>Swisshelm Heights</th>\n",
       "      <td>18</td>\n",
       "      <td>0.009</td>\n",
       "      <td>14</td>\n",
       "      <td>0.007</td>\n",
       "      <td>16</td>\n",
       "      <td>0.008</td>\n",
       "    </tr>\n",
       "    <tr>\n",
       "      <th>Chartiers City</th>\n",
       "      <td>18</td>\n",
       "      <td>0.015</td>\n",
       "      <td>20</td>\n",
       "      <td>0.017</td>\n",
       "      <td>20</td>\n",
       "      <td>0.017</td>\n",
       "    </tr>\n",
       "  </tbody>\n",
       "</table>\n",
       "</div>"
      ],
      "text/plain": [
       "                       number_major_crimes_1973  neighborhood_crime_rate_1973  \\\n",
       "neighborhood                                                                    \n",
       "Glen Hazel Heights                            0                         0.000   \n",
       "Ivory Avenue District                        10                         0.010   \n",
       "City View                                    24                         0.032   \n",
       "Swisshelm Heights                            18                         0.009   \n",
       "Chartiers City                               18                         0.015   \n",
       "\n",
       "                       number_major_crimes_1974  neighborhood_crime_rate_1974  \\\n",
       "neighborhood                                                                    \n",
       "Glen Hazel Heights                            0                         0.000   \n",
       "Ivory Avenue District                         7                         0.007   \n",
       "City View                                    20                         0.027   \n",
       "Swisshelm Heights                            14                         0.007   \n",
       "Chartiers City                               20                         0.017   \n",
       "\n",
       "                       number_major_crimes_1975  neighborhood_crime_rate_1975  \n",
       "neighborhood                                                                   \n",
       "Glen Hazel Heights                            0                         0.000  \n",
       "Ivory Avenue District                        10                         0.010  \n",
       "City View                                    15                         0.020  \n",
       "Swisshelm Heights                            16                         0.008  \n",
       "Chartiers City                               20                         0.017  "
      ]
     },
     "execution_count": 4,
     "metadata": {},
     "output_type": "execute_result"
    }
   ],
   "source": [
    "data = pd.read_csv(\"Crime Rates in Pittsburgh.csv\", index_col= \"neighborhood\")\n",
    "data\n",
    "\n",
    "data_sorted_by_1973 = data.sort_values(\"number_major_crimes_1973\") \n",
    "data_sorted_by_1973\n",
    "\n",
    "data_sorted_by_1975 = data.sort_values(\"number_major_crimes_1975\")\n",
    "safest_1975=data_sorted_by_1975.head(5)\n",
    "safest_1975\n"
   ]
  },
  {
   "cell_type": "code",
   "execution_count": 52,
   "metadata": {},
   "outputs": [
    {
     "data": {
      "image/png": "[encoded data removed]",
      "text/plain": [
       "<Figure size 432x288 with 1 Axes>"
      ]
     },
     "metadata": {
      "needs_background": "light"
     },
     "output_type": "display_data"
    }
   ],
   "source": []
  },
  {
   "cell_type": "code",
   "execution_count": 14,
   "metadata": {},
   "outputs": [
    {
     "data": {
      "text/html": [
       "<div>\n",
       "<style scoped>\n",
       "    .dataframe tbody tr th:only-of-type {\n",
       "        vertical-align: middle;\n",
       "    }\n",
       "\n",
       "    .dataframe tbody tr th {\n",
       "        vertical-align: top;\n",
       "    }\n",
       "\n",
       "    .dataframe thead th {\n",
       "        text-align: right;\n",
       "    }\n",
       "</style>\n",
       "<table border=\"1\" class=\"dataframe\">\n",
       "  <thead>\n",
       "    <tr style=\"text-align: right;\">\n",
       "      <th></th>\n",
       "      <th>number_major_crimes_1973</th>\n",
       "      <th>neighborhood_crime_rate_1973</th>\n",
       "      <th>number_major_crimes_1974</th>\n",
       "      <th>neighborhood_crime_rate_1974</th>\n",
       "      <th>number_major_crimes_1975</th>\n",
       "      <th>neighborhood_crime_rate_1975</th>\n",
       "    </tr>\n",
       "    <tr>\n",
       "      <th>neighborhood</th>\n",
       "      <th></th>\n",
       "      <th></th>\n",
       "      <th></th>\n",
       "      <th></th>\n",
       "      <th></th>\n",
       "      <th></th>\n",
       "    </tr>\n",
       "  </thead>\n",
       "  <tbody>\n",
       "    <tr>\n",
       "      <th>Glen Hazel Heights</th>\n",
       "      <td>0</td>\n",
       "      <td>0.000</td>\n",
       "      <td>0</td>\n",
       "      <td>0.000</td>\n",
       "      <td>0</td>\n",
       "      <td>0.000</td>\n",
       "    </tr>\n",
       "    <tr>\n",
       "      <th>Ivory Avenue District</th>\n",
       "      <td>10</td>\n",
       "      <td>0.010</td>\n",
       "      <td>7</td>\n",
       "      <td>0.007</td>\n",
       "      <td>10</td>\n",
       "      <td>0.010</td>\n",
       "    </tr>\n",
       "    <tr>\n",
       "      <th>Swisshelm Heights</th>\n",
       "      <td>18</td>\n",
       "      <td>0.009</td>\n",
       "      <td>14</td>\n",
       "      <td>0.007</td>\n",
       "      <td>16</td>\n",
       "      <td>0.008</td>\n",
       "    </tr>\n",
       "    <tr>\n",
       "      <th>Chartiers City</th>\n",
       "      <td>18</td>\n",
       "      <td>0.015</td>\n",
       "      <td>20</td>\n",
       "      <td>0.017</td>\n",
       "      <td>20</td>\n",
       "      <td>0.017</td>\n",
       "    </tr>\n",
       "    <tr>\n",
       "      <th>City View</th>\n",
       "      <td>24</td>\n",
       "      <td>0.032</td>\n",
       "      <td>20</td>\n",
       "      <td>0.027</td>\n",
       "      <td>15</td>\n",
       "      <td>0.020</td>\n",
       "    </tr>\n",
       "  </tbody>\n",
       "</table>\n",
       "</div>"
      ],
      "text/plain": [
       "                       number_major_crimes_1973  neighborhood_crime_rate_1973  \\\n",
       "neighborhood                                                                    \n",
       "Glen Hazel Heights                            0                         0.000   \n",
       "Ivory Avenue District                        10                         0.010   \n",
       "Swisshelm Heights                            18                         0.009   \n",
       "Chartiers City                               18                         0.015   \n",
       "City View                                    24                         0.032   \n",
       "\n",
       "                       number_major_crimes_1974  neighborhood_crime_rate_1974  \\\n",
       "neighborhood                                                                    \n",
       "Glen Hazel Heights                            0                         0.000   \n",
       "Ivory Avenue District                         7                         0.007   \n",
       "Swisshelm Heights                            14                         0.007   \n",
       "Chartiers City                               20                         0.017   \n",
       "City View                                    20                         0.027   \n",
       "\n",
       "                       number_major_crimes_1975  neighborhood_crime_rate_1975  \n",
       "neighborhood                                                                   \n",
       "Glen Hazel Heights                            0                         0.000  \n",
       "Ivory Avenue District                        10                         0.010  \n",
       "Swisshelm Heights                            16                         0.008  \n",
       "Chartiers City                               20                         0.017  \n",
       "City View                                    15                         0.020  "
      ]
     },
     "execution_count": 14,
     "metadata": {},
     "output_type": "execute_result"
    }
   ],
   "source": [
    "safest_1973=data_sorted_by_1973.head(5)\n",
    "safest_1973"
   ]
  },
  {
   "cell_type": "code",
   "execution_count": 6,
   "metadata": {},
   "outputs": [
    {
     "data": {
      "text/plain": [
       "<matplotlib.axes._subplots.AxesSubplot at 0x7fceef11ee48>"
      ]
     },
     "execution_count": 6,
     "metadata": {},
     "output_type": "execute_result"
    },
    {
     "data": {
      "image/png": "[encoded data removed]",
      "text/plain": [
       "<Figure size 432x288 with 1 Axes>"
      ]
     },
     "metadata": {
      "needs_background": "light"
     },
     "output_type": "display_data"
    }
   ],
   "source": [
    "safest_1973.plot(kind=\"bar\")"
   ]
  },
  {
   "cell_type": "code",
   "execution_count": 55,
   "metadata": {},
   "outputs": [
    {
     "ename": "KeyError",
     "evalue": "\"['neighborhood_crime_rate_1973' 'neighborhood_crime_rate_1974'\\n 'neighborhood_crime_rate_1975'] not found in axis\"",
     "output_type": "error",
     "traceback": [
      "\u001b[0;31m---------------------------------------------------------------------------\u001b[0m",
      "\u001b[0;31mKeyError\u001b[0m                                  Traceback (most recent call last)",
      "\u001b[0;32m<ipython-input-55-b372c0ace0a5>\u001b[0m in \u001b[0;36m<module>\u001b[0;34m()\u001b[0m\n\u001b[1;32m      5\u001b[0m \u001b[0;34m\u001b[0m\u001b[0m\n\u001b[1;32m      6\u001b[0m \u001b[0msafest_1973\u001b[0m\u001b[0;34m.\u001b[0m\u001b[0mdrop\u001b[0m\u001b[0;34m(\u001b[0m\u001b[0;34m\"number_major_crimes_1974\"\u001b[0m\u001b[0;34m,\u001b[0m \u001b[0maxis\u001b[0m\u001b[0;34m=\u001b[0m\u001b[0;36m1\u001b[0m\u001b[0;34m)\u001b[0m\u001b[0;34m\u001b[0m\u001b[0m\n\u001b[0;32m----> 7\u001b[0;31m \u001b[0msafest_1973\u001b[0m\u001b[0;34m.\u001b[0m\u001b[0mdrop\u001b[0m\u001b[0;34m(\u001b[0m\u001b[0;34m[\u001b[0m\u001b[0;34m\"neighborhood_crime_rate_1973\"\u001b[0m\u001b[0;34m,\u001b[0m \u001b[0;34m\"neighborhood_crime_rate_1974\"\u001b[0m\u001b[0;34m,\u001b[0m\u001b[0;34m\"neighborhood_crime_rate_1975\"\u001b[0m\u001b[0;34m]\u001b[0m\u001b[0;34m,\u001b[0m \u001b[0maxis\u001b[0m\u001b[0;34m=\u001b[0m\u001b[0;36m1\u001b[0m\u001b[0;34m)\u001b[0m\u001b[0;34m\u001b[0m\u001b[0m\n\u001b[0m\u001b[1;32m      8\u001b[0m \u001b[0mdf\u001b[0m \u001b[0;34m=\u001b[0m \u001b[0msafest_1975\u001b[0m\u001b[0;34m.\u001b[0m\u001b[0mdrop\u001b[0m\u001b[0;34m(\u001b[0m\u001b[0;34m[\u001b[0m\u001b[0;34m\"neighborhood_crime_rate_1973\"\u001b[0m\u001b[0;34m,\u001b[0m \u001b[0;34m\"neighborhood_crime_rate_1974\"\u001b[0m\u001b[0;34m,\u001b[0m\u001b[0;34m\"neighborhood_crime_rate_1975\"\u001b[0m\u001b[0;34m]\u001b[0m\u001b[0;34m,\u001b[0m \u001b[0maxis\u001b[0m\u001b[0;34m=\u001b[0m\u001b[0;36m1\u001b[0m\u001b[0;34m)\u001b[0m\u001b[0;34m\u001b[0m\u001b[0m\n\u001b[1;32m      9\u001b[0m \u001b[0mdf\u001b[0m\u001b[0;34m\u001b[0m\u001b[0m\n",
      "\u001b[0;32m/ihome/crc/install/python/miniconda3-3.7/lib/python3.7/site-packages/pandas/core/frame.py\u001b[0m in \u001b[0;36mdrop\u001b[0;34m(self, labels, axis, index, columns, level, inplace, errors)\u001b[0m\n\u001b[1;32m   3695\u001b[0m                                            \u001b[0mindex\u001b[0m\u001b[0;34m=\u001b[0m\u001b[0mindex\u001b[0m\u001b[0;34m,\u001b[0m \u001b[0mcolumns\u001b[0m\u001b[0;34m=\u001b[0m\u001b[0mcolumns\u001b[0m\u001b[0;34m,\u001b[0m\u001b[0;34m\u001b[0m\u001b[0m\n\u001b[1;32m   3696\u001b[0m                                            \u001b[0mlevel\u001b[0m\u001b[0;34m=\u001b[0m\u001b[0mlevel\u001b[0m\u001b[0;34m,\u001b[0m \u001b[0minplace\u001b[0m\u001b[0;34m=\u001b[0m\u001b[0minplace\u001b[0m\u001b[0;34m,\u001b[0m\u001b[0;34m\u001b[0m\u001b[0m\n\u001b[0;32m-> 3697\u001b[0;31m                                            errors=errors)\n\u001b[0m\u001b[1;32m   3698\u001b[0m \u001b[0;34m\u001b[0m\u001b[0m\n\u001b[1;32m   3699\u001b[0m     @rewrite_axis_style_signature('mapper', [('copy', True),\n",
      "\u001b[0;32m/ihome/crc/install/python/miniconda3-3.7/lib/python3.7/site-packages/pandas/core/generic.py\u001b[0m in \u001b[0;36mdrop\u001b[0;34m(self, labels, axis, index, columns, level, inplace, errors)\u001b[0m\n\u001b[1;32m   3109\u001b[0m         \u001b[0;32mfor\u001b[0m \u001b[0maxis\u001b[0m\u001b[0;34m,\u001b[0m \u001b[0mlabels\u001b[0m \u001b[0;32min\u001b[0m \u001b[0maxes\u001b[0m\u001b[0;34m.\u001b[0m\u001b[0mitems\u001b[0m\u001b[0;34m(\u001b[0m\u001b[0;34m)\u001b[0m\u001b[0;34m:\u001b[0m\u001b[0;34m\u001b[0m\u001b[0m\n\u001b[1;32m   3110\u001b[0m             \u001b[0;32mif\u001b[0m \u001b[0mlabels\u001b[0m \u001b[0;32mis\u001b[0m \u001b[0;32mnot\u001b[0m \u001b[0;32mNone\u001b[0m\u001b[0;34m:\u001b[0m\u001b[0;34m\u001b[0m\u001b[0m\n\u001b[0;32m-> 3111\u001b[0;31m                 \u001b[0mobj\u001b[0m \u001b[0;34m=\u001b[0m \u001b[0mobj\u001b[0m\u001b[0;34m.\u001b[0m\u001b[0m_drop_axis\u001b[0m\u001b[0;34m(\u001b[0m\u001b[0mlabels\u001b[0m\u001b[0;34m,\u001b[0m \u001b[0maxis\u001b[0m\u001b[0;34m,\u001b[0m \u001b[0mlevel\u001b[0m\u001b[0;34m=\u001b[0m\u001b[0mlevel\u001b[0m\u001b[0;34m,\u001b[0m \u001b[0merrors\u001b[0m\u001b[0;34m=\u001b[0m\u001b[0merrors\u001b[0m\u001b[0;34m)\u001b[0m\u001b[0;34m\u001b[0m\u001b[0m\n\u001b[0m\u001b[1;32m   3112\u001b[0m \u001b[0;34m\u001b[0m\u001b[0m\n\u001b[1;32m   3113\u001b[0m         \u001b[0;32mif\u001b[0m \u001b[0minplace\u001b[0m\u001b[0;34m:\u001b[0m\u001b[0;34m\u001b[0m\u001b[0m\n",
      "\u001b[0;32m/ihome/crc/install/python/miniconda3-3.7/lib/python3.7/site-packages/pandas/core/generic.py\u001b[0m in \u001b[0;36m_drop_axis\u001b[0;34m(self, labels, axis, level, errors)\u001b[0m\n\u001b[1;32m   3141\u001b[0m                 \u001b[0mnew_axis\u001b[0m \u001b[0;34m=\u001b[0m \u001b[0maxis\u001b[0m\u001b[0;34m.\u001b[0m\u001b[0mdrop\u001b[0m\u001b[0;34m(\u001b[0m\u001b[0mlabels\u001b[0m\u001b[0;34m,\u001b[0m \u001b[0mlevel\u001b[0m\u001b[0;34m=\u001b[0m\u001b[0mlevel\u001b[0m\u001b[0;34m,\u001b[0m \u001b[0merrors\u001b[0m\u001b[0;34m=\u001b[0m\u001b[0merrors\u001b[0m\u001b[0;34m)\u001b[0m\u001b[0;34m\u001b[0m\u001b[0m\n\u001b[1;32m   3142\u001b[0m             \u001b[0;32melse\u001b[0m\u001b[0;34m:\u001b[0m\u001b[0;34m\u001b[0m\u001b[0m\n\u001b[0;32m-> 3143\u001b[0;31m                 \u001b[0mnew_axis\u001b[0m \u001b[0;34m=\u001b[0m \u001b[0maxis\u001b[0m\u001b[0;34m.\u001b[0m\u001b[0mdrop\u001b[0m\u001b[0;34m(\u001b[0m\u001b[0mlabels\u001b[0m\u001b[0;34m,\u001b[0m \u001b[0merrors\u001b[0m\u001b[0;34m=\u001b[0m\u001b[0merrors\u001b[0m\u001b[0;34m)\u001b[0m\u001b[0;34m\u001b[0m\u001b[0m\n\u001b[0m\u001b[1;32m   3144\u001b[0m             \u001b[0mresult\u001b[0m \u001b[0;34m=\u001b[0m \u001b[0mself\u001b[0m\u001b[0;34m.\u001b[0m\u001b[0mreindex\u001b[0m\u001b[0;34m(\u001b[0m\u001b[0;34m**\u001b[0m\u001b[0;34m{\u001b[0m\u001b[0maxis_name\u001b[0m\u001b[0;34m:\u001b[0m \u001b[0mnew_axis\u001b[0m\u001b[0;34m}\u001b[0m\u001b[0;34m)\u001b[0m\u001b[0;34m\u001b[0m\u001b[0m\n\u001b[1;32m   3145\u001b[0m \u001b[0;34m\u001b[0m\u001b[0m\n",
      "\u001b[0;32m/ihome/crc/install/python/miniconda3-3.7/lib/python3.7/site-packages/pandas/core/indexes/base.py\u001b[0m in \u001b[0;36mdrop\u001b[0;34m(self, labels, errors)\u001b[0m\n\u001b[1;32m   4402\u001b[0m             \u001b[0;32mif\u001b[0m \u001b[0merrors\u001b[0m \u001b[0;34m!=\u001b[0m \u001b[0;34m'ignore'\u001b[0m\u001b[0;34m:\u001b[0m\u001b[0;34m\u001b[0m\u001b[0m\n\u001b[1;32m   4403\u001b[0m                 raise KeyError(\n\u001b[0;32m-> 4404\u001b[0;31m                     '{} not found in axis'.format(labels[mask]))\n\u001b[0m\u001b[1;32m   4405\u001b[0m             \u001b[0mindexer\u001b[0m \u001b[0;34m=\u001b[0m \u001b[0mindexer\u001b[0m\u001b[0;34m[\u001b[0m\u001b[0;34m~\u001b[0m\u001b[0mmask\u001b[0m\u001b[0;34m]\u001b[0m\u001b[0;34m\u001b[0m\u001b[0m\n\u001b[1;32m   4406\u001b[0m         \u001b[0;32mreturn\u001b[0m \u001b[0mself\u001b[0m\u001b[0;34m.\u001b[0m\u001b[0mdelete\u001b[0m\u001b[0;34m(\u001b[0m\u001b[0mindexer\u001b[0m\u001b[0;34m)\u001b[0m\u001b[0;34m\u001b[0m\u001b[0m\n",
      "\u001b[0;31mKeyError\u001b[0m: \"['neighborhood_crime_rate_1973' 'neighborhood_crime_rate_1974'\\n 'neighborhood_crime_rate_1975'] not found in axis\""
     ]
    }
   ],
   "source": [
    "#safest_1973=safest_1973.drop(\"neighborhood_crime_rate_1973\", axis=1)\n",
    "#safest_1973=safest_1973.drop(columns=\"neighborhood_crime_rate_1974\")\n",
    "#safest_1973=safest_1973.drop(\"neighborhood_crime_rate_1975\",axis=1)\n",
    "safest_1973 #= safest_1973.drop([\"neighborhoo_crime_rate_1973\", \"neighborhood_crime_rate_1975\"], axis=1)\n",
    "\n",
    "safest_1973.drop(\"number_major_crimes_1974\", axis=1)\n",
    "safest_1973.drop([\"neighborhood_crime_rate_1973\", \"neighborhood_crime_rate_1974\",\"neighborhood_crime_rate_1975\"], axis=1)\n",
    "df = safest_1975.drop([\"neighborhood_crime_rate_1973\", \"neighborhood_crime_rate_1974\",\"neighborhood_crime_rate_1975\"], axis=1)\n",
    "df"
   ]
  },
  {
   "cell_type": "code",
   "execution_count": 54,
   "metadata": {},
   "outputs": [
    {
     "data": {
      "text/plain": [
       "<matplotlib.axes._subplots.AxesSubplot at 0x7fcedc399080>"
      ]
     },
     "execution_count": 54,
     "metadata": {},
     "output_type": "execute_result"
    },
    {
     "data": {
      "image/png": "[encoded data removed]",
      "text/plain": [
       "<Figure size 432x288 with 1 Axes>"
      ]
     },
     "metadata": {
      "needs_background": "light"
     },
     "output_type": "display_data"
    },
    {
     "data": {
      "image/png": "[encoded data removed]",
      "text/plain": [
       "<Figure size 432x288 with 1 Axes>"
      ]
     },
     "metadata": {
      "needs_background": "light"
     },
     "output_type": "display_data"
    }
   ],
   "source": [
    "safest_1973.plot.bar(stacked=True)\n",
    "safest_1975.plot.bar(stacked=True)\n"
   ]
  },
  {
   "cell_type": "code",
   "execution_count": 49,
   "metadata": {},
   "outputs": [
    {
     "data": {
      "text/html": [
       "<div>\n",
       "<style scoped>\n",
       "    .dataframe tbody tr th:only-of-type {\n",
       "        vertical-align: middle;\n",
       "    }\n",
       "\n",
       "    .dataframe tbody tr th {\n",
       "        vertical-align: top;\n",
       "    }\n",
       "\n",
       "    .dataframe thead th {\n",
       "        text-align: right;\n",
       "    }\n",
       "</style>\n",
       "<table border=\"1\" class=\"dataframe\">\n",
       "  <thead>\n",
       "    <tr style=\"text-align: right;\">\n",
       "      <th></th>\n",
       "      <th>neighborhood_crime_rate_1973</th>\n",
       "      <th>neighborhood_crime_rate_1974</th>\n",
       "      <th>neighborhood_crime_rate_1975</th>\n",
       "    </tr>\n",
       "    <tr>\n",
       "      <th>neighborhood</th>\n",
       "      <th></th>\n",
       "      <th></th>\n",
       "      <th></th>\n",
       "    </tr>\n",
       "  </thead>\n",
       "  <tbody>\n",
       "    <tr>\n",
       "      <th>Glen Hazel Heights</th>\n",
       "      <td>0.000</td>\n",
       "      <td>0.000</td>\n",
       "      <td>0.000</td>\n",
       "    </tr>\n",
       "    <tr>\n",
       "      <th>Ivory Avenue District</th>\n",
       "      <td>0.010</td>\n",
       "      <td>0.007</td>\n",
       "      <td>0.010</td>\n",
       "    </tr>\n",
       "    <tr>\n",
       "      <th>Swisshelm Heights</th>\n",
       "      <td>0.009</td>\n",
       "      <td>0.007</td>\n",
       "      <td>0.008</td>\n",
       "    </tr>\n",
       "    <tr>\n",
       "      <th>Chartiers City</th>\n",
       "      <td>0.015</td>\n",
       "      <td>0.017</td>\n",
       "      <td>0.017</td>\n",
       "    </tr>\n",
       "    <tr>\n",
       "      <th>City View</th>\n",
       "      <td>0.032</td>\n",
       "      <td>0.027</td>\n",
       "      <td>0.020</td>\n",
       "    </tr>\n",
       "  </tbody>\n",
       "</table>\n",
       "</div>"
      ],
      "text/plain": [
       "                       neighborhood_crime_rate_1973  \\\n",
       "neighborhood                                          \n",
       "Glen Hazel Heights                            0.000   \n",
       "Ivory Avenue District                         0.010   \n",
       "Swisshelm Heights                             0.009   \n",
       "Chartiers City                                0.015   \n",
       "City View                                     0.032   \n",
       "\n",
       "                       neighborhood_crime_rate_1974  \\\n",
       "neighborhood                                          \n",
       "Glen Hazel Heights                            0.000   \n",
       "Ivory Avenue District                         0.007   \n",
       "Swisshelm Heights                             0.007   \n",
       "Chartiers City                                0.017   \n",
       "City View                                     0.027   \n",
       "\n",
       "                       neighborhood_crime_rate_1975  \n",
       "neighborhood                                         \n",
       "Glen Hazel Heights                            0.000  \n",
       "Ivory Avenue District                         0.010  \n",
       "Swisshelm Heights                             0.008  \n",
       "Chartiers City                                0.017  \n",
       "City View                                     0.020  "
      ]
     },
     "execution_count": 49,
     "metadata": {},
     "output_type": "execute_result"
    }
   ],
   "source": [
    "new = data_sorted_by_1973.head(5)\n",
    "new2=new.drop([\"number_major_crimes_1973\",\"number_major_crimes_1974\",\"number_major_crimes_1975\"], axis=1)\n",
    "new2\n",
    "               \n",
    "\n"
   ]
  },
  {
   "cell_type": "code",
   "execution_count": 5,
   "metadata": {},
   "outputs": [],
   "source": [
    "crime_increase_list=[]\n",
    "crime_decrease_list=[]\n",
    "difference_list=[]\n",
    "num=0\n",
    "for row in data[1:]:\n",
    "    difference = data[\"number_major_crimes_1973\"] - data[\"number_major_crimes_1975\"]\n",
    "    #print(difference)\n",
    "    #difference_list.append(difference)\n",
    "    #print(difference_list)\n",
    "    \n",
    "    \n",
    "    \n",
    "    \n",
    "\n",
    "\n",
    "\n",
    "\n",
    "\n"
   ]
  },
  {
   "cell_type": "code",
   "execution_count": 28,
   "metadata": {},
   "outputs": [
    {
     "ename": "ValueError",
     "evalue": "No axis named 4 for object type <class 'pandas.core.frame.DataFrame'>",
     "output_type": "error",
     "traceback": [
      "\u001b[0;31m---------------------------------------------------------------------------\u001b[0m",
      "\u001b[0;31mValueError\u001b[0m                                Traceback (most recent call last)",
      "\u001b[0;32m<ipython-input-28-c377a576e763>\u001b[0m in \u001b[0;36m<module>\u001b[0;34m()\u001b[0m\n\u001b[1;32m      3\u001b[0m \u001b[0;31m#data.describe()\u001b[0m\u001b[0;34m\u001b[0m\u001b[0;34m\u001b[0m\u001b[0m\n\u001b[1;32m      4\u001b[0m \u001b[0;31m#data[0:10]\u001b[0m\u001b[0;34m\u001b[0m\u001b[0;34m\u001b[0m\u001b[0m\n\u001b[0;32m----> 5\u001b[0;31m \u001b[0mdata\u001b[0m\u001b[0;34m.\u001b[0m\u001b[0mmax\u001b[0m\u001b[0;34m(\u001b[0m\u001b[0;36m4\u001b[0m\u001b[0;34m)\u001b[0m\u001b[0;34m\u001b[0m\u001b[0m\n\u001b[0m",
      "\u001b[0;32m/ihome/crc/install/python/miniconda3-3.7/lib/python3.7/site-packages/pandas/core/generic.py\u001b[0m in \u001b[0;36mstat_func\u001b[0;34m(self, axis, skipna, level, numeric_only, **kwargs)\u001b[0m\n\u001b[1;32m   9611\u001b[0m                                       skipna=skipna)\n\u001b[1;32m   9612\u001b[0m         return self._reduce(f, name, axis=axis, skipna=skipna,\n\u001b[0;32m-> 9613\u001b[0;31m                             numeric_only=numeric_only)\n\u001b[0m\u001b[1;32m   9614\u001b[0m \u001b[0;34m\u001b[0m\u001b[0m\n\u001b[1;32m   9615\u001b[0m     \u001b[0;32mreturn\u001b[0m \u001b[0mset_function_name\u001b[0m\u001b[0;34m(\u001b[0m\u001b[0mstat_func\u001b[0m\u001b[0;34m,\u001b[0m \u001b[0mname\u001b[0m\u001b[0;34m,\u001b[0m \u001b[0mcls\u001b[0m\u001b[0;34m)\u001b[0m\u001b[0;34m\u001b[0m\u001b[0m\n",
      "\u001b[0;32m/ihome/crc/install/python/miniconda3-3.7/lib/python3.7/site-packages/pandas/core/frame.py\u001b[0m in \u001b[0;36m_reduce\u001b[0;34m(self, op, name, axis, skipna, numeric_only, filter_type, **kwds)\u001b[0m\n\u001b[1;32m   6850\u001b[0m         \u001b[0;32melse\u001b[0m\u001b[0;34m:\u001b[0m\u001b[0;34m\u001b[0m\u001b[0m\n\u001b[1;32m   6851\u001b[0m             \u001b[0;31m# TODO: Make other agg func handle axis=None properly\u001b[0m\u001b[0;34m\u001b[0m\u001b[0;34m\u001b[0m\u001b[0m\n\u001b[0;32m-> 6852\u001b[0;31m             \u001b[0maxis\u001b[0m \u001b[0;34m=\u001b[0m \u001b[0mself\u001b[0m\u001b[0;34m.\u001b[0m\u001b[0m_get_axis_number\u001b[0m\u001b[0;34m(\u001b[0m\u001b[0maxis\u001b[0m\u001b[0;34m)\u001b[0m\u001b[0;34m\u001b[0m\u001b[0m\n\u001b[0m\u001b[1;32m   6853\u001b[0m             \u001b[0mlabels\u001b[0m \u001b[0;34m=\u001b[0m \u001b[0mself\u001b[0m\u001b[0;34m.\u001b[0m\u001b[0m_get_agg_axis\u001b[0m\u001b[0;34m(\u001b[0m\u001b[0maxis\u001b[0m\u001b[0;34m)\u001b[0m\u001b[0;34m\u001b[0m\u001b[0m\n\u001b[1;32m   6854\u001b[0m             \u001b[0mconstructor\u001b[0m \u001b[0;34m=\u001b[0m \u001b[0mself\u001b[0m\u001b[0;34m.\u001b[0m\u001b[0m_constructor\u001b[0m\u001b[0;34m\u001b[0m\u001b[0m\n",
      "\u001b[0;32m/ihome/crc/install/python/miniconda3-3.7/lib/python3.7/site-packages/pandas/core/generic.py\u001b[0m in \u001b[0;36m_get_axis_number\u001b[0;34m(self, axis)\u001b[0m\n\u001b[1;32m    373\u001b[0m                 \u001b[0;32mpass\u001b[0m\u001b[0;34m\u001b[0m\u001b[0m\n\u001b[1;32m    374\u001b[0m         raise ValueError('No axis named {0} for object type {1}'\n\u001b[0;32m--> 375\u001b[0;31m                          .format(axis, type(self)))\n\u001b[0m\u001b[1;32m    376\u001b[0m \u001b[0;34m\u001b[0m\u001b[0m\n\u001b[1;32m    377\u001b[0m     \u001b[0;32mdef\u001b[0m \u001b[0m_get_axis_name\u001b[0m\u001b[0;34m(\u001b[0m\u001b[0mself\u001b[0m\u001b[0;34m,\u001b[0m \u001b[0maxis\u001b[0m\u001b[0;34m)\u001b[0m\u001b[0;34m:\u001b[0m\u001b[0;34m\u001b[0m\u001b[0m\n",
      "\u001b[0;31mValueError\u001b[0m: No axis named 4 for object type <class 'pandas.core.frame.DataFrame'>"
     ]
    }
   ],
   "source": [
    "len(data)\n",
    "#data.info()\n",
    "#data.describe()\n",
    "#data[0:10]\n",
    "data.max()\n"
   ]
  },
  {
   "cell_type": "markdown",
   "metadata": {},
   "source": [
    "Find difference in crime rate between 1973 and 1975. Bigger difference indicates \"Safer Neighborhood\" "
   ]
  },
  {
   "cell_type": "code",
   "execution_count": 14,
   "metadata": {},
   "outputs": [
    {
     "data": {
      "text/plain": [
       "neighborhood\n",
       "Westwood                                              -13\n",
       "31st ward                                              33\n",
       "Arlington                                              59\n",
       "Allegheny Center                                     -294\n",
       "Allegheny West                                        -73\n",
       "Allentown                                               3\n",
       "Banksville-Greentree                                   12\n",
       "Beechview                                             -23\n",
       "Beltzhoover                                            52\n",
       "Bloomfield                                           -170\n",
       "Bon Air                                                 8\n",
       "Brighton Heights                                        2\n",
       "Brookline                                              35\n",
       "Carrick                                               -12\n",
       "Central North Side                                    -44\n",
       "Chartiers City                                         -2\n",
       "City View                                               9\n",
       "Crafton Heights                                         2\n",
       "Downtown                                            -1225\n",
       "Duquesne Heights                                      -38\n",
       "East Hills                                            -65\n",
       "East Liberty                                         -571\n",
       "East Liberty: Larimer Area                            -85\n",
       "East Liberty: Lincoln-Lemington                       -27\n",
       "East Street Valley                                      7\n",
       "Elliott                                               -24\n",
       "Esplen                                                -19\n",
       "Fineview                                               21\n",
       "Garfield                                               14\n",
       "Greenfield                                              8\n",
       "                                                     ... \n",
       "Morningside                                           -47\n",
       "Mt. Washington                                        -20\n",
       "North Side: California-Kirkbride Area                   7\n",
       "North Side:East North Side Area                       -81\n",
       "North Side: Marshall-Shadeland Area                    47\n",
       "North Side: North Shore Area                          -90\n",
       "North Side: Perry Hilltop-Perrysville Avenue Area     -36\n",
       "North Side: Pleasant Valley Area                       -2\n",
       "North Side: Summer Hill Area                           -7\n",
       "Northview Heights                                      24\n",
       "Oakland                                              -635\n",
       "Oakwood                                                 3\n",
       "Overbrook                                              37\n",
       "Polish Hill                                           -12\n",
       "Regent Square and Frick Park - Regent Square          -23\n",
       "Shadyside                                            -450\n",
       "Sheraden                                              -16\n",
       "Soho                                                  -23\n",
       "South Side                                             71\n",
       "Spring Garden                                          10\n",
       "Spring Hill                                            35\n",
       "Squirrel Hill                                        -387\n",
       "St Clair Village and MtOliver                          75\n",
       "Stanton Heights                                        32\n",
       "Strip District                                        -79\n",
       "Swisshelm Heights                                       2\n",
       "Troy Hill                                              14\n",
       "Uptown                                                -86\n",
       "West End                                               10\n",
       "Woods Run- Halls Grove                                 11\n",
       "Length: 69, dtype: int64"
      ]
     },
     "execution_count": 14,
     "metadata": {},
     "output_type": "execute_result"
    }
   ],
   "source": [
    "data.index\n",
    "x=0\n",
    "difference=0\n",
    "while x<len(data):\n",
    "    difference=data[\"number_major_crimes_1973\"]-data[\"number_major_crimes_1975\"]\n",
    "    difference_list.append(difference)\n",
    "    x=x+1\n",
    "    break \n",
    "difference_list[4]\n",
    "\n",
    "\n"
   ]
  },
  {
   "cell_type": "code",
   "execution_count": null,
   "metadata": {},
   "outputs": [],
   "source": []
  }
 ],
 "metadata": {
  "kernelspec": {
   "display_name": "Python 3.7",
   "language": "python",
   "name": "python3"
  },
  "language_info": {
   "codemirror_mode": {
    "name": "ipython",
    "version": 3
   },
   "file_extension": ".py",
   "mimetype": "text/x-python",
   "name": "python",
   "nbconvert_exporter": "python",
   "pygments_lexer": "ipython3",
   "version": "3.7.0"
  }
 },
 "nbformat": 4,
 "nbformat_minor": 4
}
