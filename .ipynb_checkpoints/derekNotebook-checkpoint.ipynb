{
 "cells": [
  {
   "cell_type": "code",
   "execution_count": 22,
   "metadata": {},
   "outputs": [
    {
     "name": "stdout",
     "output_type": "stream",
     "text": [
      "-=-=-=-=-=-=-=-\n"
     ]
    },
    {
     "data": {
      "text/plain": [
       "<matplotlib.axes._subplots.AxesSubplot at 0x7fbedbee33c8>"
      ]
     },
     "execution_count": 22,
     "metadata": {},
     "output_type": "execute_result"
    },
    {
     "data": {
      "image/png": "[encoded data removed]",
      "text/plain": [
       "<Figure size 432x288 with 1 Axes>"
      ]
     },
     "metadata": {
      "needs_background": "light"
     },
     "output_type": "display_data"
    }
   ],
   "source": [
    "import pandas as pd\n",
    "import numpy as np\n",
    "%matplotlib inline\n",
    "import matplotlib.pyplot as plt\n",
    "\n",
    "arrests = pd.read_csv(\"recordedArrests.csv\")\n",
    "arrestsCount = arrests[\"INCIDENTNEIGHBORHOOD\"].value_counts()\n",
    "\n",
    "def filterLessThan(row):\n",
    "    if row <= 250: # if the quantity of the given row is less than 2\n",
    "        return False # remove it\n",
    "    else:\n",
    "        return True # keep it\n",
    "# use the custom function to filter out rows\n",
    "#arrestCountTruncated = arrestsCount.filter(filterLessThan)\n",
    "\n",
    "\n",
    "#arrests[\"INCIDENTNEIGHBORHOOD\"].value_counts().plot(kind = 'bar')\n",
    "#print(arrestsCount)\n",
    "i = 0;\n",
    "#while i < len(arrestsCount):\n",
    " #   if arrestsCount[i] >= 250:\n",
    "  #      print(arrestsCount[i]);\n",
    "   # i = i + 1\n",
    "        \n",
    "print(\"-=-=-=-=-=-=-=-\")\n",
    "arrests[\"INCIDENTNEIGHBORHOOD\"].value_counts().plot()\n",
    "# Future me should figure out how to keep the Neighborhood attached to the recorded number of crimes.\n",
    "# Could create separate data frame with two columns and record them via a function, or figure out if\n",
    "# the plot function can exclude specific values\n",
    "\n",
    "#arrests.plot()"
   ]
  },
  {
   "cell_type": "code",
   "execution_count": null,
   "metadata": {},
   "outputs": [],
   "source": []
  }
 ],
 "metadata": {
  "kernelspec": {
   "display_name": "Python 3.7",
   "language": "python",
   "name": "python3"
  },
  "language_info": {
   "codemirror_mode": {
    "name": "ipython",
    "version": 3
   },
   "file_extension": ".py",
   "mimetype": "text/x-python",
   "name": "python",
   "nbconvert_exporter": "python",
   "pygments_lexer": "ipython3",
   "version": "3.7.0"
  }
 },
 "nbformat": 4,
 "nbformat_minor": 4
}
